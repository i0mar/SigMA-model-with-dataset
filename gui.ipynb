{
 "cells": [
  {
   "cell_type": "code",
   "execution_count": null,
   "id": "initial_id",
   "metadata": {
    "collapsed": true
   },
   "outputs": [],
   "source": [
    "import tkinter as tk\n",
    "from tkinter import filedialog\n",
    "from tensorflow.keras.models import load_model\n",
    "from tensorflow.keras.preprocessing import image\n",
    "import numpy as np"
   ]
  },
  {
   "cell_type": "code",
   "outputs": [],
   "source": [
    "# Load your trained model\n",
    "model = load_model('./SigMA.keras')"
   ],
   "metadata": {
    "collapsed": false
   },
   "id": "6e1e2a65c836e649",
   "execution_count": null
  },
  {
   "cell_type": "code",
   "outputs": [],
   "source": [
    "classes = []\n",
    "for i in range(1, 26):\n",
    "    classes.append(f'Person{i}')\n",
    "    classes.append(f'Person{i}f')\n",
    "        \n",
    "classes.sort()"
   ],
   "metadata": {
    "collapsed": false
   },
   "id": "5dc2d928434ed3ee",
   "execution_count": null
  },
  {
   "cell_type": "code",
   "outputs": [],
   "source": [
    "def load_img():\n",
    "    global img, image_data\n",
    "    for img_display in frame.winfo_children():\n",
    "        img_display.destroy()\n",
    "\n",
    "    image_data = filedialog.askopenfilename(initialdir=\"/\", title=\"Upload an image\")\n",
    "    img = image.load_img(image_data, target_size=(224, 224))\n",
    "    img = image.img_to_array(img)\n",
    "    img = np.expand_dims(img, axis=0)\n",
    "    img = img/255.0"
   ],
   "metadata": {
    "collapsed": false
   },
   "id": "4f3fa626950415aa",
   "execution_count": null
  },
  {
   "cell_type": "code",
   "outputs": [],
   "source": [
    "def classify_img():\n",
    "    user_input = user_input_entry.get().lower()  # Get user input and convert to lowercase for case-insensitive comparison\n",
    "    prediction = model.predict(img)\n",
    "    class_idx = np.argmax(prediction, axis=1)[0]\n",
    "    predicted_label = classes[class_idx].lower()  # Assuming your labels in 'index_to_label' dictionary and converting to lowercase\n",
    "    \n",
    "    print(user_input)\n",
    "    print(predicted_label)\n",
    "    # Compare the user's input with the model's prediction\n",
    "    if user_input == predicted_label:\n",
    "        result_label['text'] = \"The signature is real.\"\n",
    "        print(\"REAL\")\n",
    "    else:\n",
    "        result_label['text'] = \"The signature is fake.\"\n",
    "        print(\"FAKE\")\n",
    "        \n",
    "    print (prediction)\n",
    "    print (class_idx)"
   ],
   "metadata": {
    "collapsed": false
   },
   "id": "bffa2b68b4a4b181",
   "execution_count": null
  },
  {
   "cell_type": "code",
   "outputs": [],
   "source": [
    "# Setting up the GUI layout\n",
    "root = tk.Tk()\n",
    "root.title('Signature Verification GUI')\n",
    "root.geometry(\"500x500\")\n",
    "\n",
    "frame = tk.Frame(root)\n",
    "frame.pack(pady=20)\n",
    "\n",
    "btn_load = tk.Button(root, text=\"Load Image\", command=load_img)\n",
    "btn_load.pack()\n",
    "\n",
    "# Entry for user to type the label name\n",
    "user_input_entry = tk.Entry(root)\n",
    "user_input_entry.pack()\n",
    "\n",
    "btn_classify = tk.Button(root, text=\"Classify Image\", command=classify_img)\n",
    "btn_classify.pack()\n",
    "\n",
    "result_label = tk.Label(root, text=\"Validation Result\")\n",
    "result_label.pack()\n",
    "\n",
    "root.mainloop()"
   ],
   "metadata": {
    "collapsed": false
   },
   "id": "cfb8aa307c13a2a5",
   "execution_count": null
  },
  {
   "cell_type": "code",
   "outputs": [],
   "source": [],
   "metadata": {
    "collapsed": false
   },
   "id": "c6bfca7f26a85fd3",
   "execution_count": null
  }
 ],
 "metadata": {
  "kernelspec": {
   "display_name": "Python 3",
   "language": "python",
   "name": "python3"
  },
  "language_info": {
   "codemirror_mode": {
    "name": "ipython",
    "version": 2
   },
   "file_extension": ".py",
   "mimetype": "text/x-python",
   "name": "python",
   "nbconvert_exporter": "python",
   "pygments_lexer": "ipython2",
   "version": "2.7.6"
  }
 },
 "nbformat": 4,
 "nbformat_minor": 5
}
