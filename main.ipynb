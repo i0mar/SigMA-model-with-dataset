{
 "cells": [
  {
   "cell_type": "code",
   "execution_count": 1,
   "id": "initial_id",
   "metadata": {
    "collapsed": true,
    "ExecuteTime": {
     "end_time": "2024-04-07T13:16:17.940811Z",
     "start_time": "2024-04-07T13:16:15.956891Z"
    }
   },
   "outputs": [
    {
     "name": "stderr",
     "output_type": "stream",
     "text": [
      "/Users/i0mar/Documents/i0mar/A Tour of Data Science, Learn R and Python in Parallel/Assignments/Pickhacks 2024/.venv/lib/python3.9/site-packages/urllib3/__init__.py:35: NotOpenSSLWarning: urllib3 v2 only supports OpenSSL 1.1.1+, currently the 'ssl' module is compiled with 'LibreSSL 2.8.3'. See: https://github.com/urllib3/urllib3/issues/3020\n",
      "  warnings.warn(\n"
     ]
    }
   ],
   "source": [
    "import tensorflow as tf\n",
    "from tensorflow.keras.preprocessing.image import ImageDataGenerator\n",
    "from tensorflow.keras.models import Sequential\n",
    "from tensorflow.keras.layers import Conv2D, MaxPooling2D, Flatten, Dense, Dropout"
   ]
  },
  {
   "cell_type": "code",
   "outputs": [],
   "source": [
    "# Define the path to your dataset\n",
    "dataset_path = './signatures'\n",
    "\n",
    "# Initialize an image data generator with normalization\n",
    "datagen = ImageDataGenerator(rescale=1./255, validation_split=0.3)"
   ],
   "metadata": {
    "collapsed": false,
    "ExecuteTime": {
     "end_time": "2024-04-07T13:16:17.945413Z",
     "start_time": "2024-04-07T13:16:17.942177Z"
    }
   },
   "id": "57b18d6bcde092e1",
   "execution_count": 2
  },
  {
   "cell_type": "code",
   "outputs": [
    {
     "name": "stdout",
     "output_type": "stream",
     "text": [
      "Found 850 images belonging to 50 classes.\n",
      "Found 350 images belonging to 50 classes.\n"
     ]
    }
   ],
   "source": [
    "# Prepare the training dataset\n",
    "train_generator = datagen.flow_from_directory(\n",
    "    dataset_path,\n",
    "    target_size=(224, 224),\n",
    "    batch_size=32,\n",
    "    class_mode='categorical',\n",
    "    subset='training')\n",
    "\n",
    "# Prepare the validation dataset\n",
    "validation_generator = datagen.flow_from_directory(\n",
    "    dataset_path,\n",
    "    target_size=(224, 224),\n",
    "    batch_size=32,\n",
    "    class_mode='categorical',\n",
    "    subset='validation')"
   ],
   "metadata": {
    "collapsed": false,
    "ExecuteTime": {
     "end_time": "2024-04-07T13:16:18.022166Z",
     "start_time": "2024-04-07T13:16:17.945725Z"
    }
   },
   "id": "6360b29e71da43bc",
   "execution_count": 3
  },
  {
   "cell_type": "code",
   "outputs": [
    {
     "name": "stderr",
     "output_type": "stream",
     "text": [
      "/Users/i0mar/Documents/i0mar/A Tour of Data Science, Learn R and Python in Parallel/Assignments/Pickhacks 2024/.venv/lib/python3.9/site-packages/keras/src/layers/convolutional/base_conv.py:99: UserWarning: Do not pass an `input_shape`/`input_dim` argument to a layer. When using Sequential models, prefer using an `Input(shape)` object as the first layer in the model instead.\n",
      "  super().__init__(\n"
     ]
    }
   ],
   "source": [
    "model = Sequential([\n",
    "    Conv2D(32, (3,3), activation='relu', input_shape=(224, 224, 3)),\n",
    "    MaxPooling2D(2, 2),\n",
    "    Conv2D(64, (3,3), activation='relu'),\n",
    "    MaxPooling2D(2,2),\n",
    "    Conv2D(128, (3,3), activation='relu'),\n",
    "    MaxPooling2D(2,2),\n",
    "    Flatten(),\n",
    "    Dense(512, activation='relu'),\n",
    "    Dropout(0.5),\n",
    "    Dense(50, activation='softmax')\n",
    "])\n",
    "\n",
    "model.compile(optimizer='adam', loss='categorical_crossentropy', metrics=['accuracy'])"
   ],
   "metadata": {
    "collapsed": false,
    "ExecuteTime": {
     "end_time": "2024-04-07T13:16:18.130274Z",
     "start_time": "2024-04-07T13:16:18.034847Z"
    }
   },
   "id": "565778687cf89bf0",
   "execution_count": 4
  },
  {
   "cell_type": "code",
   "outputs": [
    {
     "name": "stdout",
     "output_type": "stream",
     "text": [
      "Epoch 1/20\n"
     ]
    },
    {
     "name": "stderr",
     "output_type": "stream",
     "text": [
      "/Users/i0mar/Documents/i0mar/A Tour of Data Science, Learn R and Python in Parallel/Assignments/Pickhacks 2024/.venv/lib/python3.9/site-packages/keras/src/trainers/data_adapters/py_dataset_adapter.py:120: UserWarning: Your `PyDataset` class should call `super().__init__(**kwargs)` in its constructor. `**kwargs` can include `workers`, `use_multiprocessing`, `max_queue_size`. Do not pass these arguments to `fit()`, as they will be ignored.\n",
      "  self._warn_if_super_not_called()\n"
     ]
    },
    {
     "name": "stdout",
     "output_type": "stream",
     "text": [
      "27/27 - 14s - 503ms/step - accuracy: 0.0176 - loss: 4.6390 - val_accuracy: 0.0200 - val_loss: 3.9113\n",
      "Epoch 2/20\n",
      "27/27 - 13s - 472ms/step - accuracy: 0.0141 - loss: 3.9131 - val_accuracy: 0.0200 - val_loss: 3.9120\n",
      "Epoch 3/20\n",
      "27/27 - 12s - 463ms/step - accuracy: 0.0165 - loss: 3.9126 - val_accuracy: 0.0200 - val_loss: 3.9120\n",
      "Epoch 4/20\n",
      "27/27 - 12s - 461ms/step - accuracy: 0.0141 - loss: 3.9141 - val_accuracy: 0.0200 - val_loss: 3.9120\n",
      "Epoch 5/20\n",
      "27/27 - 12s - 461ms/step - accuracy: 0.0188 - loss: 3.9133 - val_accuracy: 0.0200 - val_loss: 3.9100\n",
      "Epoch 6/20\n",
      "27/27 - 12s - 460ms/step - accuracy: 0.0294 - loss: 3.9111 - val_accuracy: 0.0486 - val_loss: 3.9065\n",
      "Epoch 7/20\n",
      "27/27 - 13s - 466ms/step - accuracy: 0.0765 - loss: 3.7871 - val_accuracy: 0.1943 - val_loss: 3.1925\n",
      "Epoch 8/20\n",
      "27/27 - 13s - 468ms/step - accuracy: 0.2694 - loss: 2.9218 - val_accuracy: 0.5171 - val_loss: 1.8347\n",
      "Epoch 9/20\n",
      "27/27 - 13s - 480ms/step - accuracy: 0.5282 - loss: 1.6938 - val_accuracy: 0.6629 - val_loss: 1.3456\n",
      "Epoch 10/20\n",
      "27/27 - 13s - 480ms/step - accuracy: 0.7318 - loss: 0.9637 - val_accuracy: 0.7286 - val_loss: 1.0845\n",
      "Epoch 11/20\n",
      "27/27 - 13s - 486ms/step - accuracy: 0.8165 - loss: 0.6236 - val_accuracy: 0.7486 - val_loss: 0.9279\n",
      "Epoch 12/20\n",
      "27/27 - 13s - 487ms/step - accuracy: 0.8976 - loss: 0.3703 - val_accuracy: 0.7657 - val_loss: 0.8962\n",
      "Epoch 13/20\n",
      "27/27 - 13s - 489ms/step - accuracy: 0.9153 - loss: 0.2757 - val_accuracy: 0.7629 - val_loss: 0.8747\n",
      "Epoch 14/20\n",
      "27/27 - 13s - 480ms/step - accuracy: 0.9576 - loss: 0.1303 - val_accuracy: 0.7943 - val_loss: 0.9336\n",
      "Epoch 15/20\n",
      "27/27 - 13s - 483ms/step - accuracy: 0.9682 - loss: 0.0921 - val_accuracy: 0.7914 - val_loss: 0.8997\n",
      "Epoch 16/20\n",
      "27/27 - 13s - 483ms/step - accuracy: 0.9788 - loss: 0.0914 - val_accuracy: 0.7714 - val_loss: 0.8693\n",
      "Epoch 17/20\n",
      "27/27 - 13s - 481ms/step - accuracy: 0.9765 - loss: 0.0763 - val_accuracy: 0.7857 - val_loss: 0.8175\n",
      "Epoch 18/20\n",
      "27/27 - 13s - 488ms/step - accuracy: 0.9894 - loss: 0.0455 - val_accuracy: 0.8057 - val_loss: 0.9029\n",
      "Epoch 19/20\n",
      "27/27 - 13s - 493ms/step - accuracy: 0.9847 - loss: 0.0387 - val_accuracy: 0.7800 - val_loss: 0.9337\n",
      "Epoch 20/20\n",
      "27/27 - 13s - 479ms/step - accuracy: 0.9929 - loss: 0.0240 - val_accuracy: 0.8057 - val_loss: 0.9304\n"
     ]
    }
   ],
   "source": [
    "history = model.fit(\n",
    "    train_generator,\n",
    "    validation_data=validation_generator,\n",
    "    epochs=20,  # Increased epochs for potentially better training, but keep an eye on overfitting\n",
    "    verbose=2\n",
    ")"
   ],
   "metadata": {
    "collapsed": false,
    "ExecuteTime": {
     "end_time": "2024-04-07T13:20:36.528397Z",
     "start_time": "2024-04-07T13:16:18.132242Z"
    }
   },
   "id": "32daef2c4e5a5b3c",
   "execution_count": 5
  },
  {
   "cell_type": "code",
   "outputs": [
    {
     "name": "stdout",
     "output_type": "stream",
     "text": [
      "\u001B[1m11/11\u001B[0m \u001B[32m━━━━━━━━━━━━━━━━━━━━\u001B[0m\u001B[37m\u001B[0m \u001B[1m2s\u001B[0m 133ms/step - accuracy: 0.7990 - loss: 0.8582\n",
      "Validation loss: 0.9318853616714478, Validation accuracy: 0.8057143092155457\n"
     ]
    }
   ],
   "source": [
    "val_loss, val_acc = model.evaluate(validation_generator)\n",
    "print(f'Validation loss: {val_loss}, Validation accuracy: {val_acc}')"
   ],
   "metadata": {
    "collapsed": false,
    "ExecuteTime": {
     "end_time": "2024-04-07T13:21:27.122651Z",
     "start_time": "2024-04-07T13:21:25.340105Z"
    }
   },
   "id": "76044345eff252f3",
   "execution_count": 8
  },
  {
   "cell_type": "code",
   "outputs": [],
   "source": [
    "model.save('SigMA.keras')"
   ],
   "metadata": {
    "collapsed": false,
    "ExecuteTime": {
     "end_time": "2024-04-07T13:21:28.902563Z",
     "start_time": "2024-04-07T13:21:28.644528Z"
    }
   },
   "id": "e748bc7dd689c652",
   "execution_count": 9
  },
  {
   "cell_type": "code",
   "outputs": [],
   "source": [],
   "metadata": {
    "collapsed": false,
    "ExecuteTime": {
     "end_time": "2024-04-07T13:20:38.492734Z",
     "start_time": "2024-04-07T13:20:38.490893Z"
    }
   },
   "id": "9b8a3dd9086efca1",
   "execution_count": 7
  }
 ],
 "metadata": {
  "kernelspec": {
   "display_name": "Python 3",
   "language": "python",
   "name": "python3"
  },
  "language_info": {
   "codemirror_mode": {
    "name": "ipython",
    "version": 2
   },
   "file_extension": ".py",
   "mimetype": "text/x-python",
   "name": "python",
   "nbconvert_exporter": "python",
   "pygments_lexer": "ipython2",
   "version": "2.7.6"
  }
 },
 "nbformat": 4,
 "nbformat_minor": 5
}
